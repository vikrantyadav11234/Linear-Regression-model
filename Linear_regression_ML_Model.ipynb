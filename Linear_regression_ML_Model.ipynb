{
 "cells": [
  {
   "cell_type": "code",
   "execution_count": 1,
   "id": "23522434",
   "metadata": {},
   "outputs": [],
   "source": [
    "# imports\n",
    "import numpy as np\n",
    "import pandas as pd\n",
    "import matplotlib.pyplot as plt\n",
    "import seaborn as sns\n",
    "# from model_selection class import train_test_split object\n",
    "from sklearn.model_selection import train_test_split\n",
    "# from linear_model class import LinearRegression object\n",
    "from sklearn.linear_model import LinearRegression\n",
    "#from metrics class import several different tools\n",
    "from sklearn.metrics import r2_score, mean_squared_error\n",
    "\n",
    "# Supress the warnings\n",
    "import warnings\n",
    "warnings.filterwarnings('ignore')"
   ]
  },
  {
   "cell_type": "code",
   "execution_count": 2,
   "id": "53676903",
   "metadata": {},
   "outputs": [],
   "source": [
    "# importing the dataset\n",
    "advertising=pd.read_csv('Advertising.csv')"
   ]
  },
  {
   "cell_type": "code",
   "execution_count": 4,
   "id": "a3f07bbd",
   "metadata": {},
   "outputs": [
    {
     "data": {
      "text/html": [
       "<div>\n",
       "<style scoped>\n",
       "    .dataframe tbody tr th:only-of-type {\n",
       "        vertical-align: middle;\n",
       "    }\n",
       "\n",
       "    .dataframe tbody tr th {\n",
       "        vertical-align: top;\n",
       "    }\n",
       "\n",
       "    .dataframe thead th {\n",
       "        text-align: right;\n",
       "    }\n",
       "</style>\n",
       "<table border=\"1\" class=\"dataframe\">\n",
       "  <thead>\n",
       "    <tr style=\"text-align: right;\">\n",
       "      <th></th>\n",
       "      <th>TV</th>\n",
       "      <th>Radio</th>\n",
       "      <th>Newspaper</th>\n",
       "      <th>Sales</th>\n",
       "    </tr>\n",
       "  </thead>\n",
       "  <tbody>\n",
       "    <tr>\n",
       "      <th>0</th>\n",
       "      <td>230.1</td>\n",
       "      <td>37.8</td>\n",
       "      <td>69.2</td>\n",
       "      <td>22.1</td>\n",
       "    </tr>\n",
       "    <tr>\n",
       "      <th>1</th>\n",
       "      <td>44.5</td>\n",
       "      <td>39.3</td>\n",
       "      <td>45.1</td>\n",
       "      <td>10.4</td>\n",
       "    </tr>\n",
       "    <tr>\n",
       "      <th>2</th>\n",
       "      <td>17.2</td>\n",
       "      <td>45.9</td>\n",
       "      <td>69.3</td>\n",
       "      <td>9.3</td>\n",
       "    </tr>\n",
       "    <tr>\n",
       "      <th>3</th>\n",
       "      <td>151.5</td>\n",
       "      <td>41.3</td>\n",
       "      <td>58.5</td>\n",
       "      <td>18.5</td>\n",
       "    </tr>\n",
       "    <tr>\n",
       "      <th>4</th>\n",
       "      <td>180.8</td>\n",
       "      <td>10.8</td>\n",
       "      <td>58.4</td>\n",
       "      <td>12.9</td>\n",
       "    </tr>\n",
       "    <tr>\n",
       "      <th>...</th>\n",
       "      <td>...</td>\n",
       "      <td>...</td>\n",
       "      <td>...</td>\n",
       "      <td>...</td>\n",
       "    </tr>\n",
       "    <tr>\n",
       "      <th>195</th>\n",
       "      <td>38.2</td>\n",
       "      <td>3.7</td>\n",
       "      <td>13.8</td>\n",
       "      <td>7.6</td>\n",
       "    </tr>\n",
       "    <tr>\n",
       "      <th>196</th>\n",
       "      <td>94.2</td>\n",
       "      <td>4.9</td>\n",
       "      <td>8.1</td>\n",
       "      <td>9.7</td>\n",
       "    </tr>\n",
       "    <tr>\n",
       "      <th>197</th>\n",
       "      <td>177.0</td>\n",
       "      <td>9.3</td>\n",
       "      <td>6.4</td>\n",
       "      <td>12.8</td>\n",
       "    </tr>\n",
       "    <tr>\n",
       "      <th>198</th>\n",
       "      <td>283.6</td>\n",
       "      <td>42.0</td>\n",
       "      <td>66.2</td>\n",
       "      <td>25.5</td>\n",
       "    </tr>\n",
       "    <tr>\n",
       "      <th>199</th>\n",
       "      <td>232.1</td>\n",
       "      <td>8.6</td>\n",
       "      <td>8.7</td>\n",
       "      <td>13.4</td>\n",
       "    </tr>\n",
       "  </tbody>\n",
       "</table>\n",
       "<p>200 rows × 4 columns</p>\n",
       "</div>"
      ],
      "text/plain": [
       "        TV  Radio  Newspaper  Sales\n",
       "0    230.1   37.8       69.2   22.1\n",
       "1     44.5   39.3       45.1   10.4\n",
       "2     17.2   45.9       69.3    9.3\n",
       "3    151.5   41.3       58.5   18.5\n",
       "4    180.8   10.8       58.4   12.9\n",
       "..     ...    ...        ...    ...\n",
       "195   38.2    3.7       13.8    7.6\n",
       "196   94.2    4.9        8.1    9.7\n",
       "197  177.0    9.3        6.4   12.8\n",
       "198  283.6   42.0       66.2   25.5\n",
       "199  232.1    8.6        8.7   13.4\n",
       "\n",
       "[200 rows x 4 columns]"
      ]
     },
     "execution_count": 4,
     "metadata": {},
     "output_type": "execute_result"
    }
   ],
   "source": [
    "# observe the dataset x1=TV ,x2=Radio , x3=Newspaper , Y=sales(target veriable)\n",
    "advertising"
   ]
  },
  {
   "cell_type": "code",
   "execution_count": 5,
   "id": "06efdc92",
   "metadata": {},
   "outputs": [],
   "source": [
    "# 3 predictor variable which are numeric \n",
    "# 1 target variable-numeric\n",
    "# it has a target variable that means supervised learning. \n",
    "# target variable is numeric so we are going to apply regression model."
   ]
  },
  {
   "cell_type": "code",
   "execution_count": 6,
   "id": "d02f4532",
   "metadata": {},
   "outputs": [
    {
     "name": "stdout",
     "output_type": "stream",
     "text": [
      "<class 'pandas.core.frame.DataFrame'>\n",
      "RangeIndex: 200 entries, 0 to 199\n",
      "Data columns (total 4 columns):\n",
      " #   Column     Non-Null Count  Dtype  \n",
      "---  ------     --------------  -----  \n",
      " 0   TV         200 non-null    float64\n",
      " 1   Radio      200 non-null    float64\n",
      " 2   Newspaper  200 non-null    float64\n",
      " 3   Sales      200 non-null    float64\n",
      "dtypes: float64(4)\n",
      "memory usage: 6.4 KB\n"
     ]
    }
   ],
   "source": [
    "advertising.info()"
   ]
  },
  {
   "cell_type": "code",
   "execution_count": 7,
   "id": "f0963d82",
   "metadata": {},
   "outputs": [
    {
     "data": {
      "text/html": [
       "<div>\n",
       "<style scoped>\n",
       "    .dataframe tbody tr th:only-of-type {\n",
       "        vertical-align: middle;\n",
       "    }\n",
       "\n",
       "    .dataframe tbody tr th {\n",
       "        vertical-align: top;\n",
       "    }\n",
       "\n",
       "    .dataframe thead th {\n",
       "        text-align: right;\n",
       "    }\n",
       "</style>\n",
       "<table border=\"1\" class=\"dataframe\">\n",
       "  <thead>\n",
       "    <tr style=\"text-align: right;\">\n",
       "      <th></th>\n",
       "      <th>TV</th>\n",
       "      <th>Radio</th>\n",
       "      <th>Newspaper</th>\n",
       "      <th>Sales</th>\n",
       "    </tr>\n",
       "  </thead>\n",
       "  <tbody>\n",
       "    <tr>\n",
       "      <th>count</th>\n",
       "      <td>200.000000</td>\n",
       "      <td>200.000000</td>\n",
       "      <td>200.000000</td>\n",
       "      <td>200.000000</td>\n",
       "    </tr>\n",
       "    <tr>\n",
       "      <th>mean</th>\n",
       "      <td>147.042500</td>\n",
       "      <td>23.264000</td>\n",
       "      <td>30.554000</td>\n",
       "      <td>14.022500</td>\n",
       "    </tr>\n",
       "    <tr>\n",
       "      <th>std</th>\n",
       "      <td>85.854236</td>\n",
       "      <td>14.846809</td>\n",
       "      <td>21.778621</td>\n",
       "      <td>5.217457</td>\n",
       "    </tr>\n",
       "    <tr>\n",
       "      <th>min</th>\n",
       "      <td>0.700000</td>\n",
       "      <td>0.000000</td>\n",
       "      <td>0.300000</td>\n",
       "      <td>1.600000</td>\n",
       "    </tr>\n",
       "    <tr>\n",
       "      <th>25%</th>\n",
       "      <td>74.375000</td>\n",
       "      <td>9.975000</td>\n",
       "      <td>12.750000</td>\n",
       "      <td>10.375000</td>\n",
       "    </tr>\n",
       "    <tr>\n",
       "      <th>50%</th>\n",
       "      <td>149.750000</td>\n",
       "      <td>22.900000</td>\n",
       "      <td>25.750000</td>\n",
       "      <td>12.900000</td>\n",
       "    </tr>\n",
       "    <tr>\n",
       "      <th>75%</th>\n",
       "      <td>218.825000</td>\n",
       "      <td>36.525000</td>\n",
       "      <td>45.100000</td>\n",
       "      <td>17.400000</td>\n",
       "    </tr>\n",
       "    <tr>\n",
       "      <th>max</th>\n",
       "      <td>296.400000</td>\n",
       "      <td>49.600000</td>\n",
       "      <td>114.000000</td>\n",
       "      <td>27.000000</td>\n",
       "    </tr>\n",
       "  </tbody>\n",
       "</table>\n",
       "</div>"
      ],
      "text/plain": [
       "               TV       Radio   Newspaper       Sales\n",
       "count  200.000000  200.000000  200.000000  200.000000\n",
       "mean   147.042500   23.264000   30.554000   14.022500\n",
       "std     85.854236   14.846809   21.778621    5.217457\n",
       "min      0.700000    0.000000    0.300000    1.600000\n",
       "25%     74.375000    9.975000   12.750000   10.375000\n",
       "50%    149.750000   22.900000   25.750000   12.900000\n",
       "75%    218.825000   36.525000   45.100000   17.400000\n",
       "max    296.400000   49.600000  114.000000   27.000000"
      ]
     },
     "execution_count": 7,
     "metadata": {},
     "output_type": "execute_result"
    }
   ],
   "source": [
    "advertising.describe() # only works on the numeric features"
   ]
  },
  {
   "cell_type": "code",
   "execution_count": 8,
   "id": "d24fc884",
   "metadata": {},
   "outputs": [
    {
     "data": {
      "text/plain": [
       "<seaborn.axisgrid.PairGrid at 0x274525f6b60>"
      ]
     },
     "execution_count": 8,
     "metadata": {},
     "output_type": "execute_result"
    },
    {
     "data": {
      "image/png": "[encoded data removed]",
      "text/plain": [
       "<Figure size 1500x500 with 3 Axes>"
      ]
     },
     "metadata": {},
     "output_type": "display_data"
    }
   ],
   "source": [
    "# Visualization\n",
    "sns.pairplot(advertising,x_vars=['TV','Radio','Newspaper'], y_vars='Sales', size=5)"
   ]
  },
  {
   "cell_type": "code",
   "execution_count": 9,
   "id": "6f297494",
   "metadata": {},
   "outputs": [],
   "source": [
    "# TV and sales has a strong linear relationship.\n",
    "# radio and sales is also has upto some strength linear relationship\n",
    "#Newspaper and sales has not any linear relationshiop"
   ]
  },
  {
   "cell_type": "code",
   "execution_count": 10,
   "id": "6fe7763a",
   "metadata": {},
   "outputs": [
    {
     "data": {
      "image/png": "[encoded data removed]",
      "text/plain": [
       "<Figure size 640x480 with 2 Axes>"
      ]
     },
     "metadata": {},
     "output_type": "display_data"
    },
    {
     "data": {
      "text/plain": [
       "'it will help to understand two things\\n1. It will tell us about the correlation between each predictor variable\\ntarget variable.\\n2. it will also tell us if the predictor variables are infulencing each\\nother (related to each other). If there are any strong correlation between\\ntwo predictor variables. Suppose if there any strong corelation between \\ntwo predictor variables that means multicolinearity is present. so to \\navoid multicolinearity one predictor variables should drop.'"
      ]
     },
     "execution_count": 10,
     "metadata": {},
     "output_type": "execute_result"
    }
   ],
   "source": [
    "# Analysing correlation with the help of heatmap\n",
    "sns.heatmap(advertising.corr(),cmap='YlGnBu',annot=True)\n",
    "plt.show()\n",
    "'''it will help to understand two things\n",
    "1. It will tell us about the correlation between each predictor variable\n",
    "target variable.\n",
    "2. it will also tell us if the predictor variables are infulencing each\n",
    "other (related to each other). If there are any strong correlation between\n",
    "two predictor variables. Suppose if there any strong corelation between \n",
    "two predictor variables that means multicolinearity is present. so to \n",
    "avoid multicolinearity one predictor variables should drop.'''"
   ]
  },
  {
   "cell_type": "code",
   "execution_count": 11,
   "id": "a2fd3723",
   "metadata": {},
   "outputs": [],
   "source": [
    "# Analyzing multicoliniarity\n",
    "from statsmodels.stats.outliers_influence import variance_inflation_factor\n",
    "X_new=advertising[['TV','Radio','Newspaper']]\n"
   ]
  },
  {
   "cell_type": "code",
   "execution_count": 12,
   "id": "116b0161",
   "metadata": {},
   "outputs": [
    {
     "data": {
      "text/html": [
       "<div>\n",
       "<style scoped>\n",
       "    .dataframe tbody tr th:only-of-type {\n",
       "        vertical-align: middle;\n",
       "    }\n",
       "\n",
       "    .dataframe tbody tr th {\n",
       "        vertical-align: top;\n",
       "    }\n",
       "\n",
       "    .dataframe thead th {\n",
       "        text-align: right;\n",
       "    }\n",
       "</style>\n",
       "<table border=\"1\" class=\"dataframe\">\n",
       "  <thead>\n",
       "    <tr style=\"text-align: right;\">\n",
       "      <th></th>\n",
       "      <th>TV</th>\n",
       "      <th>Radio</th>\n",
       "      <th>Newspaper</th>\n",
       "    </tr>\n",
       "  </thead>\n",
       "  <tbody>\n",
       "    <tr>\n",
       "      <th>0</th>\n",
       "      <td>230.1</td>\n",
       "      <td>37.8</td>\n",
       "      <td>69.2</td>\n",
       "    </tr>\n",
       "    <tr>\n",
       "      <th>1</th>\n",
       "      <td>44.5</td>\n",
       "      <td>39.3</td>\n",
       "      <td>45.1</td>\n",
       "    </tr>\n",
       "    <tr>\n",
       "      <th>2</th>\n",
       "      <td>17.2</td>\n",
       "      <td>45.9</td>\n",
       "      <td>69.3</td>\n",
       "    </tr>\n",
       "    <tr>\n",
       "      <th>3</th>\n",
       "      <td>151.5</td>\n",
       "      <td>41.3</td>\n",
       "      <td>58.5</td>\n",
       "    </tr>\n",
       "    <tr>\n",
       "      <th>4</th>\n",
       "      <td>180.8</td>\n",
       "      <td>10.8</td>\n",
       "      <td>58.4</td>\n",
       "    </tr>\n",
       "    <tr>\n",
       "      <th>...</th>\n",
       "      <td>...</td>\n",
       "      <td>...</td>\n",
       "      <td>...</td>\n",
       "    </tr>\n",
       "    <tr>\n",
       "      <th>195</th>\n",
       "      <td>38.2</td>\n",
       "      <td>3.7</td>\n",
       "      <td>13.8</td>\n",
       "    </tr>\n",
       "    <tr>\n",
       "      <th>196</th>\n",
       "      <td>94.2</td>\n",
       "      <td>4.9</td>\n",
       "      <td>8.1</td>\n",
       "    </tr>\n",
       "    <tr>\n",
       "      <th>197</th>\n",
       "      <td>177.0</td>\n",
       "      <td>9.3</td>\n",
       "      <td>6.4</td>\n",
       "    </tr>\n",
       "    <tr>\n",
       "      <th>198</th>\n",
       "      <td>283.6</td>\n",
       "      <td>42.0</td>\n",
       "      <td>66.2</td>\n",
       "    </tr>\n",
       "    <tr>\n",
       "      <th>199</th>\n",
       "      <td>232.1</td>\n",
       "      <td>8.6</td>\n",
       "      <td>8.7</td>\n",
       "    </tr>\n",
       "  </tbody>\n",
       "</table>\n",
       "<p>200 rows × 3 columns</p>\n",
       "</div>"
      ],
      "text/plain": [
       "        TV  Radio  Newspaper\n",
       "0    230.1   37.8       69.2\n",
       "1     44.5   39.3       45.1\n",
       "2     17.2   45.9       69.3\n",
       "3    151.5   41.3       58.5\n",
       "4    180.8   10.8       58.4\n",
       "..     ...    ...        ...\n",
       "195   38.2    3.7       13.8\n",
       "196   94.2    4.9        8.1\n",
       "197  177.0    9.3        6.4\n",
       "198  283.6   42.0       66.2\n",
       "199  232.1    8.6        8.7\n",
       "\n",
       "[200 rows x 3 columns]"
      ]
     },
     "execution_count": 12,
     "metadata": {},
     "output_type": "execute_result"
    }
   ],
   "source": [
    "'''when we try to analyze multicolinearity we have to deal with the predictor\n",
    "variables only.\n",
    "we can also do like this:\n",
    "X_new=advertising.drop('Sales')\n",
    "'''\n",
    "X_new"
   ]
  },
  {
   "cell_type": "code",
   "execution_count": 13,
   "id": "9c1e3fdb",
   "metadata": {},
   "outputs": [
    {
     "data": {
      "text/html": [
       "<div>\n",
       "<style scoped>\n",
       "    .dataframe tbody tr th:only-of-type {\n",
       "        vertical-align: middle;\n",
       "    }\n",
       "\n",
       "    .dataframe tbody tr th {\n",
       "        vertical-align: top;\n",
       "    }\n",
       "\n",
       "    .dataframe thead th {\n",
       "        text-align: right;\n",
       "    }\n",
       "</style>\n",
       "<table border=\"1\" class=\"dataframe\">\n",
       "  <thead>\n",
       "    <tr style=\"text-align: right;\">\n",
       "      <th></th>\n",
       "      <th>feature</th>\n",
       "    </tr>\n",
       "  </thead>\n",
       "  <tbody>\n",
       "    <tr>\n",
       "      <th>0</th>\n",
       "      <td>TV</td>\n",
       "    </tr>\n",
       "    <tr>\n",
       "      <th>1</th>\n",
       "      <td>Radio</td>\n",
       "    </tr>\n",
       "    <tr>\n",
       "      <th>2</th>\n",
       "      <td>Newspaper</td>\n",
       "    </tr>\n",
       "  </tbody>\n",
       "</table>\n",
       "</div>"
      ],
      "text/plain": [
       "     feature\n",
       "0         TV\n",
       "1      Radio\n",
       "2  Newspaper"
      ]
     },
     "execution_count": 13,
     "metadata": {},
     "output_type": "execute_result"
    }
   ],
   "source": [
    "# in order to make it more presentable and easy to read we make a dataframe\n",
    "vif_data=pd.DataFrame() # blank data frame\n",
    "vif_data['feature']=X_new.columns # dataframe has one column name feature\n",
    "vif_data\n",
    "\n",
    "#and it has three element in it which are names of the columns of X_new\n",
    "\n"
   ]
  },
  {
   "cell_type": "code",
   "execution_count": 14,
   "id": "481017c5",
   "metadata": {},
   "outputs": [
    {
     "name": "stdout",
     "output_type": "stream",
     "text": [
      "     feature       VIF\n",
      "0         TV  2.486772\n",
      "1      Radio  3.285462\n",
      "2  Newspaper  3.055245\n"
     ]
    }
   ],
   "source": [
    "# calculating VIF for each feature\n",
    "vif_data['VIF']=[variance_inflation_factor(X_new,i) for i in range(3)]\n",
    "# list comprehension\n",
    "print(vif_data)"
   ]
  },
  {
   "cell_type": "markdown",
   "id": "a4651093",
   "metadata": {},
   "source": [
    "####In VIF method we give the entire predictor variables dataframe. than 1 at \n",
    "a time it will pickup each column and find its VIF. if it is grater than 5\n",
    "than this feature is related to some other feture. And we are storing it my \n",
    "new column in my new vif_data."
   ]
  },
  {
   "cell_type": "code",
   "execution_count": 15,
   "id": "b7f03e54",
   "metadata": {},
   "outputs": [],
   "source": [
    "vif_data['Multicolinear']=['yes' if vif_data['VIF'][i]>5 else 'no' for  i in range(3)]"
   ]
  },
  {
   "cell_type": "code",
   "execution_count": 16,
   "id": "ae166aee",
   "metadata": {},
   "outputs": [
    {
     "data": {
      "text/html": [
       "<div>\n",
       "<style scoped>\n",
       "    .dataframe tbody tr th:only-of-type {\n",
       "        vertical-align: middle;\n",
       "    }\n",
       "\n",
       "    .dataframe tbody tr th {\n",
       "        vertical-align: top;\n",
       "    }\n",
       "\n",
       "    .dataframe thead th {\n",
       "        text-align: right;\n",
       "    }\n",
       "</style>\n",
       "<table border=\"1\" class=\"dataframe\">\n",
       "  <thead>\n",
       "    <tr style=\"text-align: right;\">\n",
       "      <th></th>\n",
       "      <th>feature</th>\n",
       "      <th>VIF</th>\n",
       "      <th>Multicolinear</th>\n",
       "    </tr>\n",
       "  </thead>\n",
       "  <tbody>\n",
       "    <tr>\n",
       "      <th>0</th>\n",
       "      <td>TV</td>\n",
       "      <td>2.486772</td>\n",
       "      <td>no</td>\n",
       "    </tr>\n",
       "    <tr>\n",
       "      <th>1</th>\n",
       "      <td>Radio</td>\n",
       "      <td>3.285462</td>\n",
       "      <td>no</td>\n",
       "    </tr>\n",
       "    <tr>\n",
       "      <th>2</th>\n",
       "      <td>Newspaper</td>\n",
       "      <td>3.055245</td>\n",
       "      <td>no</td>\n",
       "    </tr>\n",
       "  </tbody>\n",
       "</table>\n",
       "</div>"
      ],
      "text/plain": [
       "     feature       VIF Multicolinear\n",
       "0         TV  2.486772            no\n",
       "1      Radio  3.285462            no\n",
       "2  Newspaper  3.055245            no"
      ]
     },
     "execution_count": 16,
     "metadata": {},
     "output_type": "execute_result"
    }
   ],
   "source": [
    "vif_data"
   ]
  },
  {
   "cell_type": "code",
   "execution_count": 17,
   "id": "0a0dea53",
   "metadata": {},
   "outputs": [],
   "source": [
    "# defining the independent and dependent variables in the dataset.\n",
    "# presently work only with on independent variable 'TV'.\n",
    "# when the model is based on one independent variable it result in simple \n",
    "# linear Model\n",
    "X=advertising[\"TV\"]\n",
    "y=advertising['Sales']"
   ]
  },
  {
   "cell_type": "code",
   "execution_count": 18,
   "id": "fb4497cc",
   "metadata": {},
   "outputs": [],
   "source": [
    "# Split the data into train and test (with split ratio=10-30)\n",
    "X_train, X_test ,y_train , y_test=train_test_split(X,y,\n",
    "                                                  train_size=0.7,\n",
    "                                                  test_size=0.3,\n",
    "                                                  random_state=5)"
   ]
  },
  {
   "cell_type": "markdown",
   "id": "bc0c6d08",
   "metadata": {},
   "source": [
    "#### if you mention train_size then you don't have to mention test_size and vice versa"
   ]
  },
  {
   "cell_type": "code",
   "execution_count": 19,
   "id": "2fa2e664",
   "metadata": {},
   "outputs": [
    {
     "data": {
      "text/plain": [
       "170     50.0\n",
       "182     56.2\n",
       "59     210.7\n",
       "185    205.0\n",
       "12      23.8\n",
       "       ...  \n",
       "73     129.4\n",
       "144     96.2\n",
       "118    125.7\n",
       "189     18.7\n",
       "99     135.2\n",
       "Name: TV, Length: 140, dtype: float64"
      ]
     },
     "execution_count": 19,
     "metadata": {},
     "output_type": "execute_result"
    }
   ],
   "source": [
    "X_train\n"
   ]
  },
  {
   "cell_type": "code",
   "execution_count": 20,
   "id": "e59f85d3",
   "metadata": {},
   "outputs": [
    {
     "data": {
      "text/plain": [
       "pandas.core.series.Series"
      ]
     },
     "execution_count": 20,
     "metadata": {},
     "output_type": "execute_result"
    }
   ],
   "source": [
    "type(X_train)"
   ]
  },
  {
   "cell_type": "code",
   "execution_count": 21,
   "id": "b9958772",
   "metadata": {},
   "outputs": [
    {
     "data": {
      "text/plain": [
       "(140,)"
      ]
     },
     "execution_count": 21,
     "metadata": {},
     "output_type": "execute_result"
    }
   ],
   "source": [
    "X_train.shape\n",
    "# this is one D array. but for scaling it requires 2D Array."
   ]
  },
  {
   "cell_type": "code",
   "execution_count": 22,
   "id": "cb7f0c99",
   "metadata": {},
   "outputs": [],
   "source": [
    "X_train=X_train.values.reshape(-1,1)\n",
    "# you want to convert data in one column\n",
    "X_test=X_test.values.reshape(-1,1)\n",
    "# Y is by default a single column only.\n",
    " "
   ]
  },
  {
   "cell_type": "code",
   "execution_count": 23,
   "id": "9bdf8918",
   "metadata": {},
   "outputs": [
    {
     "data": {
      "text/plain": [
       "numpy.ndarray"
      ]
     },
     "execution_count": 23,
     "metadata": {},
     "output_type": "execute_result"
    }
   ],
   "source": [
    "type(X_train)"
   ]
  },
  {
   "cell_type": "code",
   "execution_count": 24,
   "id": "2f4051fd",
   "metadata": {},
   "outputs": [
    {
     "data": {
      "text/plain": [
       "(140, 1)"
      ]
     },
     "execution_count": 24,
     "metadata": {},
     "output_type": "execute_result"
    }
   ],
   "source": [
    "X_train.shape"
   ]
  },
  {
   "cell_type": "code",
   "execution_count": 26,
   "id": "900ccbfc",
   "metadata": {},
   "outputs": [
    {
     "data": {
      "text/plain": [
       "'\\nWherever the model is a distence based model always gp ahead and scaled down \\nthe numerical dataset. Since linear regression is a distence based model i.e.\\nin this we have to find best fit line. it work on a graph. so for linear re-\\ngression we have to scaled down the dataset.\\n\\n'"
      ]
     },
     "execution_count": 26,
     "metadata": {},
     "output_type": "execute_result"
    }
   ],
   "source": [
    "'''\n",
    "Wherever the model is a distence based model always gp ahead and scaled down \n",
    "the numerical dataset. Since linear regression is a distence based model i.e.\n",
    "in this we have to find best fit line. it work on a graph. so for linear re-\n",
    "gression we have to scaled down the dataset.\n",
    "\n",
    "'''"
   ]
  },
  {
   "cell_type": "code",
   "execution_count": 27,
   "id": "c7ca3441",
   "metadata": {},
   "outputs": [],
   "source": [
    "from sklearn.preprocessing import StandardScaler\n",
    "ss=StandardScaler()\n",
    "X_train=ss.fit_transform(X_train)\n",
    "X_test=ss.transform(X_test)\n",
    "\n"
   ]
  },
  {
   "cell_type": "markdown",
   "id": "8f99cb77",
   "metadata": {},
   "source": [
    "### for the X_test data we anly do transform. we don do fit in it.\n",
    "Q.1: can we scale the data before split?\n",
    "    * Entire motive of split is that our model cannot come to the the X_tata\n",
    "     which is the test data. if we scale before the split all training values\n",
    "     are influenced by the test data set.(mean and standard deviation is \n",
    "                                         influenced by test data). so the \n",
    "    trained data already have some information about the test data. and that \n",
    "    problem is called data leacage.\n",
    "    My training dataset should have no influence no essence, no shaddow of \n",
    "    test data at all.\n",
    "# Bcoz Data Leakage\n",
    "* X_test should be alined according to the training dataset. hence when i \n",
    "  transformed the data i ll not recalculate the mean and standard deviation\n",
    "for it rather use which are calculate for training dataset. so we don have \n",
    "to do the fit again.\n"
   ]
  },
  {
   "cell_type": "markdown",
   "id": "79de64d4",
   "metadata": {},
   "source": [
    "#### fit does the calculation at the backend and transform will apply the\n",
    "formula"
   ]
  },
  {
   "cell_type": "code",
   "execution_count": 29,
   "id": "29370612",
   "metadata": {},
   "outputs": [],
   "source": [
    "# instantiating the LinearRegression() Model\n",
    "lm=LinearRegression()"
   ]
  },
  {
   "cell_type": "code",
   "execution_count": 31,
   "id": "7881d9df",
   "metadata": {},
   "outputs": [
    {
     "name": "stdout",
     "output_type": "stream",
     "text": [
      "13.948571428571428\n",
      "[4.3258742]\n"
     ]
    }
   ],
   "source": [
    "# Training the model\n",
    "\n",
    "# fitting the model and getting the parameter values:\n",
    "lm.fit(X_train,y_train)\n",
    "print(lm.intercept_) # constant\n",
    "print(lm.coef_) # slope or regression coefficient or m\n",
    "\n",
    "#lm.get_params\n",
    "# slope is always be in a list format bcoz it might have three variable and\n",
    "# and it has to give 3 slopes."
   ]
  },
  {
   "cell_type": "code",
   "execution_count": 32,
   "id": "499e5b30",
   "metadata": {},
   "outputs": [],
   "source": [
    "# inferencing- means doing the prediction\n",
    "# we can do the prediction on the train data or the test data also.\n",
    "# Finding the predicted values of Y\n",
    "y_train_pred=lm.predict(X_train) \n",
    "# y_predicted for the trained data set and compare it with Y_train\n",
    "y_test_pred=lm.predict(X_test)\n",
    "# y_predicted for the test data set and compare it with Y_test"
   ]
  },
  {
   "cell_type": "code",
   "execution_count": 33,
   "id": "fda49e65",
   "metadata": {},
   "outputs": [
    {
     "name": "stdout",
     "output_type": "stream",
     "text": [
      "0.6411433688483876\n",
      "0.5111616978794155\n"
     ]
    }
   ],
   "source": [
    "# Evaluation\n",
    "# Calculating the metric for training and testing data\n",
    "print(r2_score(y_train,y_train_pred))\n",
    "print(r2_score(y_test,y_test_pred))"
   ]
  },
  {
   "cell_type": "markdown",
   "id": "fc2fc1dd",
   "metadata": {},
   "source": [
    "####\n",
    "here after seeing the r2 score of the feature we can see that it is not doing\n",
    "a good job. may be we can have more feature and check again whether it is\n",
    "doing a good job or not."
   ]
  },
  {
   "cell_type": "code",
   "execution_count": 34,
   "id": "6f9dd26c",
   "metadata": {},
   "outputs": [
    {
     "data": {
      "image/png": "[encoded data removed]",
      "text/plain": [
       "<Figure size 640x480 with 1 Axes>"
      ]
     },
     "metadata": {},
     "output_type": "display_data"
    }
   ],
   "source": [
    "# y_pred=m*X_test+c\n",
    "#y_pred=0.6411*X_test + 0.51116\n",
    "plt.scatter(X_test,y_test)\n",
    "plt.plot(X_test,13.948571428571428+4.3258742*X_test,'r')\n",
    "plt.show()"
   ]
  },
  {
   "cell_type": "code",
   "execution_count": 40,
   "id": "a2839c36",
   "metadata": {},
   "outputs": [
    {
     "name": "stdout",
     "output_type": "stream",
     "text": [
      "0.9065727532450596\n",
      "0.8649018906637791\n"
     ]
    }
   ],
   "source": [
    "# multiple line regression model( with more than 1 independent variable)\n",
    "feature_cols=['TV','Radio','Newspaper']\n",
    "X_all=advertising[feature_cols] # advertising[['TV','Radio','Newspaper']]\n",
    "y=advertising.Sales # it can be written as advertising['Sales']\n",
    "\n",
    "\n",
    "\n",
    "# Train_test_split the new data\n",
    "X_all_train,X_all_test,y_train,y_test=train_test_split(X_all,y,train_size=0.7,random_state=0)\n",
    "\n",
    "# scaling the data\n",
    "X_all_train=ss.fit_transform(X_all_train)\n",
    "X_all_test=ss.transform(X_all_test)\n",
    "\n",
    "# instantiation and fit\n",
    "lm2=LinearRegression()\n",
    "lm2.fit(X_all_train,y_train)\n",
    "\n",
    "# prediction of target variable\n",
    "y_train_pred=lm2.predict(X_all_train)\n",
    "y_test_pred=lm2.predict(X_all_test)\n",
    "\n",
    "print(r2_score(y_train,y_train_pred))\n",
    "print(r2_score(y_test,y_test_pred))"
   ]
  },
  {
   "cell_type": "code",
   "execution_count": null,
   "id": "ef39f8f8",
   "metadata": {},
   "outputs": [],
   "source": [
    "# assignment\n",
    "#1. to calculate the evaluation matrices at one place for both the models \n",
    "#      above (adj R2,RMSE)\n",
    "# use: sklearn.metrics.mean_squared_reeor ( for RMSE)"
   ]
  },
  {
   "cell_type": "code",
   "execution_count": null,
   "id": "1769ca92",
   "metadata": {},
   "outputs": [],
   "source": []
  },
  {
   "cell_type": "code",
   "execution_count": null,
   "id": "34b15ac5",
   "metadata": {},
   "outputs": [],
   "source": []
  }
 ],
 "metadata": {
  "kernelspec": {
   "display_name": "Python 3 (ipykernel)",
   "language": "python",
   "name": "python3"
  },
  "language_info": {
   "codemirror_mode": {
    "name": "ipython",
    "version": 3
   },
   "file_extension": ".py",
   "mimetype": "text/x-python",
   "name": "python",
   "nbconvert_exporter": "python",
   "pygments_lexer": "ipython3",
   "version": "3.10.9"
  }
 },
 "nbformat": 4,
 "nbformat_minor": 5
}
